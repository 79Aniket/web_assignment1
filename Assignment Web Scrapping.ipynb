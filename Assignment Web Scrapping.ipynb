{
 "cells": [
  {
   "cell_type": "markdown",
   "id": "417e173d-27c6-4a70-80d9-20a020b9ab8d",
   "metadata": {},
   "source": [
    "### Q1. What is Web Scraping? Why is it Used? Give three areas where Web Scraping is used to get data."
   ]
  },
  {
   "cell_type": "markdown",
   "id": "c5809c23-c01c-40fa-893e-0f86c49bbae2",
   "metadata": {},
   "source": [
    "## Web scraping refers to the extraction of data from a website. This information is collected and then exported into a format that is more useful for the user. Be it a spreadsheet or an API.\n",
    "\n",
    "## Web scraping is used :  It is used for a variety of purposes, Social media, News, Financial data,\n",
    "## Web scraping is a powerful tool that can be used to collect data from a variety of sources.\n",
    "\n"
   ]
  },
  {
   "cell_type": "code",
   "execution_count": null,
   "id": "21d4c55a-8011-40f6-98a2-d4225c0781a5",
   "metadata": {},
   "outputs": [],
   "source": []
  },
  {
   "cell_type": "markdown",
   "id": "456ffd45-67e2-4584-9f85-b721da016a87",
   "metadata": {},
   "source": [
    "## Q2. What are the different methods used for Web Scraping?"
   ]
  },
  {
   "cell_type": "markdown",
   "id": "6ab31a27-8427-4c9d-bc27-32e81df1f59e",
   "metadata": {},
   "source": [
    "## There are many different methods that can be used for web scraping:  HTML parsing: This method uses the HTML structure of a web page to extract the data that is of interest. This is the most basic method of web scraping, but it can be effective for simple websites.\n",
    "\n",
    "## APIs: Some websites provide APIs that can be used to extract data from their websites. APIs are often more efficient than web scraping, but they may not be available for all websites."
   ]
  },
  {
   "cell_type": "code",
   "execution_count": null,
   "id": "addf509d-ee1a-49c0-8cee-9e245733e07a",
   "metadata": {},
   "outputs": [],
   "source": []
  },
  {
   "cell_type": "markdown",
   "id": "621b024f-3501-4caf-898e-b895a766042f",
   "metadata": {},
   "source": [
    "### Q3. What is Beautiful Soup? Why is it used?"
   ]
  },
  {
   "cell_type": "markdown",
   "id": "5da66fa5-f489-40db-929c-935e8d66d9c1",
   "metadata": {},
   "source": [
    "## Beautiful Soup is a Python library that makes it easy to scrape information from web pages. It sits atop an HTML or XML parser and provides Pythonic idioms for iterating, searching, and modifying the parse tree.\n",
    "\n",
    "## Used: \n",
    "## The Beautiful Soup library helps with isolating titles and links from webpages. It can extract all of the text from HTML tags, and alter the HTML in the document with which we’re working.\n",
    "## Web scraping.\n",
    "## Data cleaning.\n",
    "## Web development."
   ]
  },
  {
   "cell_type": "code",
   "execution_count": null,
   "id": "1a07a4dc-685f-4329-a58f-8dff39e2e32f",
   "metadata": {},
   "outputs": [],
   "source": []
  },
  {
   "cell_type": "markdown",
   "id": "e78c238b-bcda-46cc-af84-31dbfd9b51ec",
   "metadata": {},
   "source": [
    "## Q4. Why is flask used in this Web Scraping project?"
   ]
  },
  {
   "cell_type": "markdown",
   "id": "0c051a3d-7269-48fd-a4ac-cc569a1cd321",
   "metadata": {},
   "source": [
    "## Flask is a microframework for Python web development. It is lightweight and easy to use, making it a good choice for web scraping projects.\n",
    "\n",
    "## Flask can be used to create a simple web application that can be used to display the data that is scraped from the website.\n",
    "## Lightweight.\n",
    "## Easy to learn.\n",
    "## Flexible."
   ]
  },
  {
   "cell_type": "code",
   "execution_count": null,
   "id": "61349315-6e40-402f-85ec-dc87dd0a4424",
   "metadata": {},
   "outputs": [],
   "source": []
  },
  {
   "cell_type": "code",
   "execution_count": null,
   "id": "84d7d4f6-39a4-4fce-a779-9c2f17a74f8c",
   "metadata": {},
   "outputs": [],
   "source": []
  }
 ],
 "metadata": {
  "kernelspec": {
   "display_name": "Python 3 (ipykernel)",
   "language": "python",
   "name": "python3"
  },
  "language_info": {
   "codemirror_mode": {
    "name": "ipython",
    "version": 3
   },
   "file_extension": ".py",
   "mimetype": "text/x-python",
   "name": "python",
   "nbconvert_exporter": "python",
   "pygments_lexer": "ipython3",
   "version": "3.10.8"
  }
 },
 "nbformat": 4,
 "nbformat_minor": 5
}
